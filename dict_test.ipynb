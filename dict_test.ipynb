{
 "cells": [
  {
   "cell_type": "code",
   "execution_count": 1,
   "metadata": {},
   "outputs": [],
   "source": [
    "import pandas as pd"
   ]
  },
  {
   "cell_type": "code",
   "execution_count": 2,
   "metadata": {},
   "outputs": [],
   "source": [
    "df = pd.read_csv('flavor.csv')"
   ]
  },
  {
   "cell_type": "code",
   "execution_count": 3,
   "metadata": {},
   "outputs": [
    {
     "data": {
      "text/plain": [
       "[{'index': 1, 'flavor': 'matcha flavor', ' extra': '\"yum\"'},\n",
       " {'index': 2, 'flavor': 'cookie flavor', ' extra': 'flavor'},\n",
       " {'index': 3, 'flavor': 'chocolate flavor', ' extra': 'flavor'},\n",
       " {'index': 4, 'flavor': 'vanilla flavor', ' extra': nan},\n",
       " {'index': 5, 'flavor': 'cherry flavor', ' extra': nan},\n",
       " {'index': 6, 'flavor': 'flavor', ' extra': '\"huh?\"'}]"
      ]
     },
     "execution_count": 3,
     "metadata": {},
     "output_type": "execute_result"
    }
   ],
   "source": [
    "all_rows = df.to_dict('records')\n",
    "ref_words = ['flavor']\n",
    "all_rows"
   ]
  },
  {
   "cell_type": "code",
   "execution_count": 4,
   "metadata": {},
   "outputs": [
    {
     "name": "stdout",
     "output_type": "stream",
     "text": [
      " extra column is not in reference.\n"
     ]
    }
   ],
   "source": [
    "main_col = list(all_rows[0].keys())\n",
    "\n",
    "# Just the header column\n",
    "for col in main_col:\n",
    "    if col != 'index' and col not in ref_words:\n",
    "        print(f'{col} column is not in reference.')"
   ]
  },
  {
   "cell_type": "code",
   "execution_count": 5,
   "metadata": {},
   "outputs": [
    {
     "name": "stdout",
     "output_type": "stream",
     "text": [
      "matcha flavor is not in reference.\n",
      "cookie flavor is not in reference.\n",
      "flavor is in the referece\n",
      "chocolate flavor is not in reference.\n",
      "flavor is in the referece\n",
      "vanilla flavor is not in reference.\n",
      "cherry flavor is not in reference.\n",
      "flavor is in the referece\n"
     ]
    }
   ],
   "source": [
    "for row in  all_rows: # for each row of dictionary\n",
    "    for col in main_col: # for each key within dictionary\n",
    "        # Value in each column\n",
    "        value = str(row[col])\n",
    "        if col != 'index' and value != 'nan' and not((value).startswith('\"')) and (not(value).endswith('\"')): \n",
    "            if value not in ref_words:\n",
    "                print(f'{value} is not in reference.')\n",
    "            else:\n",
    "                print(f'{value} is in the referece')\n",
    "\n",
    "\n",
    "# all_rows[0]\n",
    "\n"
   ]
  },
  {
   "cell_type": "code",
   "execution_count": null,
   "metadata": {},
   "outputs": [],
   "source": []
  }
 ],
 "metadata": {
  "kernelspec": {
   "display_name": "NewPythonData",
   "language": "python",
   "name": "python3"
  },
  "language_info": {
   "codemirror_mode": {
    "name": "ipython",
    "version": 3
   },
   "file_extension": ".py",
   "mimetype": "text/x-python",
   "name": "python",
   "nbconvert_exporter": "python",
   "pygments_lexer": "ipython3",
   "version": "3.6.10"
  },
  "orig_nbformat": 4
 },
 "nbformat": 4,
 "nbformat_minor": 2
}
